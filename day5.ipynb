{
 "cells": [
  {
   "cell_type": "markdown",
   "metadata": {},
   "source": [
    "# dictionaries"
   ]
  },
  {
   "cell_type": "code",
   "execution_count": 10,
   "metadata": {},
   "outputs": [
    {
     "data": {
      "text/plain": [
       "dict"
      ]
     },
     "execution_count": 10,
     "metadata": {},
     "output_type": "execute_result"
    }
   ],
   "source": [
    "di={}\n",
    "type(di)"
   ]
  },
  {
   "cell_type": "code",
   "execution_count": 7,
   "metadata": {},
   "outputs": [
    {
     "name": "stdout",
     "output_type": "stream",
     "text": [
      "bhavana\n"
     ]
    }
   ],
   "source": [
    "di1={\"name\":\"bhavana\",\"gender\":\"female\",\"age\":20}\n",
    "print(di1['name'])\n"
   ]
  },
  {
   "cell_type": "code",
   "execution_count": 3,
   "metadata": {},
   "outputs": [
    {
     "name": "stdout",
     "output_type": "stream",
     "text": [
      "['__class__', '__contains__', '__delattr__', '__delitem__', '__dir__', '__doc__', '__eq__', '__format__', '__ge__', '__getattribute__', '__getitem__', '__gt__', '__hash__', '__init__', '__init_subclass__', '__iter__', '__le__', '__len__', '__lt__', '__ne__', '__new__', '__reduce__', '__reduce_ex__', '__repr__', '__setattr__', '__setitem__', '__sizeof__', '__str__', '__subclasshook__', 'clear', 'copy', 'fromkeys', 'get', 'items', 'keys', 'pop', 'popitem', 'setdefault', 'update', 'values']\n"
     ]
    }
   ],
   "source": [
    "print(dir(dict)) "
   ]
  },
  {
   "cell_type": "code",
   "execution_count": 23,
   "metadata": {},
   "outputs": [
    {
     "data": {
      "text/plain": [
       "('gender', 'female')"
      ]
     },
     "execution_count": 23,
     "metadata": {},
     "output_type": "execute_result"
    }
   ],
   "source": [
    "#methods\n",
    "di=di1.copy()\n",
    "values=''\n",
    "di.fromkeys(values)\n",
    "di.get(\"gender\")\n",
    "di.items()\n",
    "di.keys()\n",
    "di.values()\n",
    "di.pop(\"age\")\n",
    "di.popitem()\n"
   ]
  },
  {
   "cell_type": "code",
   "execution_count": 4,
   "metadata": {},
   "outputs": [
    {
     "name": "stdout",
     "output_type": "stream",
     "text": [
      "AAAADDDfffffraaaaaa\n",
      "{'r': 1, 'a': 6, 'f': 5, 'A': 4, 'D': 3}\n",
      "\n",
      "{1: 'r', 6: 'a', 5: 'f', 4: 'A', 3: 'D'}\n"
     ]
    }
   ],
   "source": [
    "#frequency\n",
    "s=input()\n",
    "o_l=list(s)\n",
    "d_l=set(o_l)\n",
    "fre_data1={}\n",
    "fre_data2={}\n",
    "for key in d_l:\n",
    "    fre_data1[key]=o_l.count(key)\n",
    "print(fre_data1)\n",
    "for key in d_l:\n",
    "    fre_data2[(o_l.count(key))]=key\n",
    "print()\n",
    "print(fre_data2)"
   ]
  },
  {
   "cell_type": "code",
   "execution_count": 5,
   "metadata": {},
   "outputs": [
    {
     "name": "stdout",
     "output_type": "stream",
     "text": [
      "6\n",
      "1\n",
      "6 ----> a\n",
      "1 ----> r\n"
     ]
    }
   ],
   "source": [
    "#getting max value\n",
    "\n",
    "key_list=list(fre_data2.keys())\n",
    "value_list=list(fre_data2.values())\n",
    "m=max(key_list)\n",
    "m1=min(key_list)\n",
    "print(m)\n",
    "print(m1)\n",
    "for key,value in fre_data2.items():\n",
    "    if(m==key):\n",
    "        result=value\n",
    "    if(m1==key):\n",
    "        result1=value\n",
    "print(m,\"---->\",result)\n",
    "print(m1,\"---->\",result1)\n",
    "        "
   ]
  },
  {
   "cell_type": "code",
   "execution_count": 59,
   "metadata": {},
   "outputs": [
    {
     "name": "stdout",
     "output_type": "stream",
     "text": [
      " contact has added/saved sussucesfully...!!\n",
      "1 .name= bhavana ,phonenumber 9700729753\n",
      "deleted\n",
      "contact has updated sussucesfulli...!\n",
      "no contact exit\n"
     ]
    }
   ],
   "source": [
    "#contact\n",
    "contact={}\n",
    "def add_contact(name,ph_no):\n",
    "    if(name in contact.keys()):\n",
    "        print(name,\"contact has already exits...!!\")\n",
    "    else:\n",
    "        contact[name]=ph_no\n",
    "        print(\" contact has added/saved sussucesfully...!!\")\n",
    "def display_contact():\n",
    "    i=0\n",
    "    for name,phone in contact.items():\n",
    "        print(i+1,\".name=\",name,\",phonenumber\",phone)\n",
    "        if(i>len(contact)):\n",
    "            break\n",
    "        i=i+1\n",
    "def delete_contact(name,ph_no):\n",
    "    if(name in contact.keys()):\n",
    "        contact.pop(name)\n",
    "        print(\"deleted\")\n",
    "    else:\n",
    "        print(\"empty\")\n",
    "def update_contact(name,ph_no):\n",
    "    if(name in contact.keys()):\n",
    "        print(name,\"already exits\")\n",
    "    else:\n",
    "        contact[name]=ph_no\n",
    "        contact.update()\n",
    "        print(\"contact has updated sussucesfulli...!\")\n",
    "def search_contact(ph_no):\n",
    "    if(ph_no in contact.values()):\n",
    "        print(\"contact has exit\")\n",
    "    else:\n",
    "        print(\"no contact exit\")\n",
    "add_contact(\"bhavana\",9700729753)\n",
    "display_contact()\n",
    "delete_contact(\"bhavana\",9700729753)\n",
    "update_contact(\"bhana\",86568575775)\n",
    "search_contact(86569575775)\n",
    "    \n",
    "\n"
   ]
  },
  {
   "cell_type": "markdown",
   "metadata": {},
   "source": [
    "### files"
   ]
  },
  {
   "cell_type": "code",
   "execution_count": null,
   "metadata": {},
   "outputs": [],
   "source": []
  },
  {
   "cell_type": "code",
   "execution_count": null,
   "metadata": {},
   "outputs": [],
   "source": []
  },
  {
   "cell_type": "code",
   "execution_count": null,
   "metadata": {},
   "outputs": [],
   "source": []
  }
 ],
 "metadata": {
  "kernelspec": {
   "display_name": "Python 3",
   "language": "python",
   "name": "python3"
  },
  "language_info": {
   "codemirror_mode": {
    "name": "ipython",
    "version": 3
   },
   "file_extension": ".py",
   "mimetype": "text/x-python",
   "name": "python",
   "nbconvert_exporter": "python",
   "pygments_lexer": "ipython3",
   "version": "3.7.1"
  }
 },
 "nbformat": 4,
 "nbformat_minor": 2
}
