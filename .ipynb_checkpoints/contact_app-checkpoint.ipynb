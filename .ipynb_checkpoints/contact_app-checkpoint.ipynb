{
 "cells": [
  {
   "cell_type": "code",
   "execution_count": 1,
   "metadata": {},
   "outputs": [],
   "source": [
    "import contact"
   ]
  },
  {
   "cell_type": "code",
   "execution_count": 2,
   "metadata": {},
   "outputs": [
    {
     "name": "stdout",
     "output_type": "stream",
     "text": [
      " contact has added/saved sussucesfully...!!\n"
     ]
    }
   ],
   "source": [
    "contact.add_contact(\"geethanjali\",867856478365)"
   ]
  },
  {
   "cell_type": "code",
   "execution_count": 3,
   "metadata": {},
   "outputs": [
    {
     "name": "stdout",
     "output_type": "stream",
     "text": [
      "1 .name= geethanjali ,phonenumber 867856478365\n"
     ]
    }
   ],
   "source": [
    "#contact.display_contact()"
   ]
  },
  {
   "cell_type": "code",
   "execution_count": 4,
   "metadata": {
    "scrolled": true
   },
   "outputs": [
    {
     "name": "stdout",
     "output_type": "stream",
     "text": [
      "no contact exit\n"
     ]
    }
   ],
   "source": [
    "contact.search_contact(98757747587)"
   ]
  },
  {
   "cell_type": "code",
   "execution_count": 5,
   "metadata": {},
   "outputs": [
    {
     "name": "stdout",
     "output_type": "stream",
     "text": [
      "contact has updated sussucesfulli...!\n"
     ]
    }
   ],
   "source": [
    "contact.update_contact(\"geethanjali1\",9874985734)"
   ]
  },
  {
   "cell_type": "code",
   "execution_count": 8,
   "metadata": {},
   "outputs": [
    {
     "name": "stdout",
     "output_type": "stream",
     "text": [
      "1 .name= geethanjali ,phonenumber 867856478365\n",
      "2 .name= geethanjali1 ,phonenumber 9874985734\n"
     ]
    }
   ],
   "source": [
    "contact.display_contact()"
   ]
  },
  {
   "cell_type": "code",
   "execution_count": 15,
   "metadata": {},
   "outputs": [
    {
     "name": "stdout",
     "output_type": "stream",
     "text": [
      " contact has added/saved sussucesfully...!!\n"
     ]
    }
   ],
   "source": [
    "from apliaction import contact_appli\n",
    "contact_appli.add_contact(\"teja\",78657847)"
   ]
  },
  {
   "cell_type": "code",
   "execution_count": 17,
   "metadata": {},
   "outputs": [
    {
     "name": "stdout",
     "output_type": "stream",
     "text": [
      "1 .name= teja ,phonenumber 78657847\n"
     ]
    }
   ],
   "source": [
    "contact_appli.display_contact()"
   ]
  },
  {
   "cell_type": "code",
   "execution_count": null,
   "metadata": {},
   "outputs": [],
   "source": []
  }
 ],
 "metadata": {
  "kernelspec": {
   "display_name": "Python 3",
   "language": "python",
   "name": "python3"
  },
  "language_info": {
   "codemirror_mode": {
    "name": "ipython",
    "version": 3
   },
   "file_extension": ".py",
   "mimetype": "text/x-python",
   "name": "python",
   "nbconvert_exporter": "python",
   "pygments_lexer": "ipython3",
   "version": "3.7.1"
  }
 },
 "nbformat": 4,
 "nbformat_minor": 2
}
