{
 "cells": [
  {
   "cell_type": "code",
   "execution_count": 2,
   "metadata": {},
   "outputs": [
    {
     "name": "stdout",
     "output_type": "stream",
     "text": [
      "python\n",
      "ppppppyyyyytttthhhoon"
     ]
    }
   ],
   "source": [
    "#task1\n",
    "s=input()\n",
    "t=len(s)\n",
    "for i in range(len(s)):\n",
    "    print(s[i]*t,end=\"\")\n",
    "    t=t-1\n"
   ]
  },
  {
   "cell_type": "code",
   "execution_count": 23,
   "metadata": {},
   "outputs": [
    {
     "name": "stdout",
     "output_type": "stream",
     "text": [
      "EEE2ECE3CSE5\n",
      "EEEEEE\n",
      "ECEECEECE\n",
      "CSECSECSECSECSE\n"
     ]
    }
   ],
   "source": [
    "s=input()\n",
    "data=''\n",
    "for i in range(len(s)):\n",
    "    if(s[i].isalpha()):\n",
    "        data=data+s[i]\n",
    "    if(s[i].isnumeric()):\n",
    "        print(data*int(s[i]))\n",
    "        data=''\n",
    "        \n",
    "   "
   ]
  },
  {
   "cell_type": "code",
   "execution_count": 1,
   "metadata": {},
   "outputs": [
    {
     "name": "stdout",
     "output_type": "stream",
     "text": [
      "python program\n",
      " program\n"
     ]
    }
   ],
   "source": [
    "#slicing\n",
    "s=\"python program\"\n",
    "print(s[0:])\n",
    "pos=s.index(' ')\n",
    "print(s[pos:])\n",
    "\n"
   ]
  },
  {
   "cell_type": "code",
   "execution_count": 2,
   "metadata": {},
   "outputs": [
    {
     "name": "stdout",
     "output_type": "stream",
     "text": [
      "pto rga\n",
      "yhnporm\n"
     ]
    }
   ],
   "source": [
    "print(s[0::2])\n",
    "print(s[1::2])"
   ]
  },
  {
   "cell_type": "code",
   "execution_count": 4,
   "metadata": {},
   "outputs": [
    {
     "name": "stdout",
     "output_type": "stream",
     "text": [
      "m\n",
      "a\n",
      "r\n",
      "g\n",
      "o\n",
      "r\n",
      "p\n",
      " \n",
      "n\n",
      "o\n",
      "h\n",
      "t\n",
      "y\n"
     ]
    }
   ],
   "source": [
    "    l=-(len(s))\n",
    "    for i in range(-1,l,-1):\n",
    "        print(s[i])\n"
   ]
  },
  {
   "cell_type": "code",
   "execution_count": 6,
   "metadata": {},
   "outputs": [
    {
     "name": "stdout",
     "output_type": "stream",
     "text": [
      "attas\n",
      "not a palindrom\n"
     ]
    }
   ],
   "source": [
    "#palindrom\n",
    "s=input()\n",
    "revs=s[::-1]\n",
    "if(s==revs):\n",
    "    print(\"palindrom\")\n",
    "else:\n",
    "    print(\"not a palindrom\")"
   ]
  },
  {
   "cell_type": "code",
   "execution_count": 10,
   "metadata": {},
   "outputs": [
    {
     "name": "stdout",
     "output_type": "stream",
     "text": [
      "bcdaeh84325\n",
      "abcdeh23458\n"
     ]
    }
   ],
   "source": [
    "#sorting string in ascending order\n",
    "s=input()\n",
    "alp=[]\n",
    "neu=[]\n",
    "for i in range(len(s)):\n",
    "    if(s[i].isalpha()):\n",
    "        alp.append(s[i])\n",
    "    if(s[i].isnumeric()):\n",
    "        neu.append(s[i])\n",
    "alp=sorted(alp)\n",
    "neu=sorted(neu)\n",
    "alp_sorted=\"\".join(alp)\n",
    "neu_sorted=\"\".join(neu)\n",
    "data=alp_sorted+neu_sorted\n",
    "print(data)\n",
    "   "
   ]
  },
  {
   "cell_type": "code",
   "execution_count": 17,
   "metadata": {},
   "outputs": [
    {
     "name": "stdout",
     "output_type": "stream",
     "text": [
      "python\n",
      "ppppyyyytttthhhhoooonnnnpythonpythonpythonpython "
     ]
    }
   ],
   "source": [
    "#recursive\n",
    "s=input()\n",
    "for i in range(len(s)):\n",
    "    print(s[i]*4,end=\"\")\n",
    "print(s*4,end=\" \")"
   ]
  },
  {
   "cell_type": "code",
   "execution_count": null,
   "metadata": {},
   "outputs": [],
   "source": [
    "#odd even splits\n",
    "data=input()0.\n",
    "data=data.split()\n",
    "print(\"\\neven pos data:\",end=\" \")\n",
    "for i in range(len(data)):\n",
    "    if(i%2==0):\n",
    "        print(data[i][::-1],end=\" \")\n",
    "    else:\n",
    "        print(data[i],end=\" \")\n",
    "print(\"\\nodd pos data:\",end=\" \")\n",
    "for i in range(len(data)):\n",
    "    \n",
    "        if(i%2!=0):\n",
    "            print(data[i][::-1],end=\" \")\n",
    "        else:\n",
    "             print(data[i],end=\" \")\n",
    "print(\"\\n all reverse of data:\",end=\" \")\n",
    "for i in range(len(data)):\n",
    "    print(data[i][::-1],end=\" \")"
   ]
  },
  {
   "cell_type": "code",
   "execution_count": 6,
   "metadata": {},
   "outputs": [
    {
     "name": "stdout",
     "output_type": "stream",
     "text": [
      "A ---> 5\n",
      "A ---> 5\n",
      "A ---> 5\n",
      "A ---> 5\n",
      "A ---> 5\n",
      "B ---> 4\n",
      "B ---> 4\n",
      "B ---> 4\n",
      "B ---> 4\n",
      "C ---> 1\n",
      "D ---> 2\n",
      "D ---> 2\n",
      "A ---> 5\n",
      "A ---> 5\n",
      "A ---> 5\n",
      "A ---> 5\n",
      "A ---> 5\n",
      "B ---> 4\n",
      "B ---> 4\n",
      "B ---> 4\n",
      "B ---> 4\n",
      "C ---> 1\n",
      "D ---> 2\n",
      "D ---> 2\n",
      "['A', 'B', 'C', 'D']\n",
      "A ---> 5\n",
      "B ---> 4\n",
      "C ---> 1\n",
      "D ---> 2\n",
      "B ---> 4\n",
      "A ---> 5\n",
      "C ---> 1\n",
      "D ---> 2\n"
     ]
    }
   ],
   "source": [
    "s=\"AAAAABBBBCDD\"\n",
    "for i in range(len(s)):\n",
    "    print(s[i],\"--->\",s.count(s[i]))\n",
    "for ch in s:\n",
    "    print(ch,\"--->\",s.count(ch))\n",
    "s=list(s)\n",
    "li=[]\n",
    "for ch in s:\n",
    "    if ch not in li:\n",
    "        li.append(ch)\n",
    "print(li)\n",
    "for ch in li:\n",
    "    print(ch,\"--->\",s.count(ch))\n",
    "d=list(s)\n",
    "n=set(s)\n",
    "for ch in n:\n",
    "    print(ch,\"--->\",d.count(ch))"
   ]
  },
  {
   "cell_type": "code",
   "execution_count": 8,
   "metadata": {},
   "outputs": [
    {
     "name": "stdout",
     "output_type": "stream",
     "text": [
      "68\n",
      "66\n",
      "83\n",
      "L\n",
      "Ǉ\n",
      "_\n"
     ]
    }
   ],
   "source": [
    "print(ord('D'))\n",
    "print(ord('B'))\n",
    "print(ord('S'))\n",
    "print(chr(76))\n",
    "print(chr(455))\n",
    "print(chr(95))"
   ]
  },
  {
   "cell_type": "code",
   "execution_count": 10,
   "metadata": {},
   "outputs": [
    {
     "name": "stdout",
     "output_type": "stream",
     "text": [
      "rgbj46d47dggdh\n",
      "rgbjn:dh;dggdh\n"
     ]
    }
   ],
   "source": [
    "s=input()\n",
    "data=''\n",
    "for i in range(len(s)):\n",
    "    if(s[i].isalpha()):\n",
    "        data=data+s[i]\n",
    "    if(s[i].isnumeric()):\n",
    "        asc=ord(s[i-1])\n",
    "        data=data+chr(asc+int(s[i]))\n",
    "print(data)"
   ]
  },
  {
   "cell_type": "markdown",
   "metadata": {},
   "source": [
    "# lists"
   ]
  },
  {
   "cell_type": "code",
   "execution_count": 4,
   "metadata": {},
   "outputs": [
    {
     "data": {
      "text/plain": [
       "[1, 4, 5, 9, 47, 78, 6, 45, 58, 12, 16, 17]"
      ]
     },
     "execution_count": 4,
     "metadata": {},
     "output_type": "execute_result"
    }
   ],
   "source": [
    "li=[78,47,9,1,4,5,6,45,58,12,16,17]\n",
    "mid=len(li)//2\n",
    "lli=li[:mid]\n",
    "lli.sort()\n",
    "rli=li[mid+1:]\n",
    "data=lli+rli\n",
    "data.insert(mid,li[mid])\n",
    "data\n"
   ]
  },
  {
   "cell_type": "code",
   "execution_count": 10,
   "metadata": {},
   "outputs": [
    {
     "data": {
      "text/plain": [
       "[78, 47, 9, 1, 4, 5, 6, 12, 16, 17, 45, 58]"
      ]
     },
     "execution_count": 10,
     "metadata": {},
     "output_type": "execute_result"
    }
   ],
   "source": [
    "li=[78,47,9,1,4,5,6,45,58,12,16,17]\n",
    "mid=len(li)//2\n",
    "rli=li[mid:]\n",
    "rli.sort()\n",
    "lli=li[:mid]\n",
    "data=lli+rli\n",
    "data\n"
   ]
  },
  {
   "cell_type": "markdown",
   "metadata": {},
   "source": []
  },
  {
   "cell_type": "code",
   "execution_count": null,
   "metadata": {},
   "outputs": [],
   "source": []
  },
  {
   "cell_type": "code",
   "execution_count": null,
   "metadata": {},
   "outputs": [],
   "source": []
  },
  {
   "cell_type": "code",
   "execution_count": null,
   "metadata": {},
   "outputs": [],
   "source": []
  }
 ],
 "metadata": {
  "kernelspec": {
   "display_name": "Python 3",
   "language": "python",
   "name": "python3"
  },
  "language_info": {
   "codemirror_mode": {
    "name": "ipython",
    "version": 3
   },
   "file_extension": ".py",
   "mimetype": "text/x-python",
   "name": "python",
   "nbconvert_exporter": "python",
   "pygments_lexer": "ipython3",
   "version": "3.7.1"
  }
 },
 "nbformat": 4,
 "nbformat_minor": 2
}
