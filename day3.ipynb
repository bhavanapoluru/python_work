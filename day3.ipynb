{
 "cells": [
  {
   "cell_type": "code",
   "execution_count": 3,
   "metadata": {},
   "outputs": [
    {
     "name": "stdout",
     "output_type": "stream",
     "text": [
      "enter the number1234\n"
     ]
    },
    {
     "data": {
      "text/plain": [
       "10"
      ]
     },
     "execution_count": 3,
     "metadata": {},
     "output_type": "execute_result"
    }
   ],
   "source": [
    "#with arguments and with return value\n",
    "n=int(input(\"enter the number\"))\n",
    "sum1=0\n",
    "def sumdigits(n,sum1):\n",
    "    while(n!=0):\n",
    "        sum1=sum1+(n%10)\n",
    "        n=n//10\n",
    "    return sum1\n",
    "sumdigits(n,sum1)"
   ]
  },
  {
   "cell_type": "code",
   "execution_count": 26,
   "metadata": {},
   "outputs": [],
   "source": [
    "#with arguments and without return value\n",
    "def perfectnumber(n):\n",
    "    sum1=0\n",
    "    for i in range(1,n+1):\n",
    "        if n%i==0:\n",
    "            sum1=sum1+i\n",
    "    if(sum1==n):\n",
    "        print(n,end=\" \")"
   ]
  },
  {
   "cell_type": "code",
   "execution_count": 27,
   "metadata": {},
   "outputs": [],
   "source": [
    "#without argguments and with return value\n",
    "def checkprime(n):\n",
    "    count=0\n",
    "    for i in range(1,n+1):\n",
    "        if n%i==0:\n",
    "            count=count+1\n",
    "    if count==2:\n",
    "        print(n,end=\" \")\n",
    "            "
   ]
  },
  {
   "cell_type": "code",
   "execution_count": 28,
   "metadata": {},
   "outputs": [
    {
     "name": "stdout",
     "output_type": "stream",
     "text": [
      "enter the name1\n",
      "good afternoon 1\n"
     ]
    }
   ],
   "source": [
    "#without arguments and withput return value\n",
    "def message():\n",
    "    n=input(\"enter the name\")\n",
    "    print(\"good afternoon\",n)\n",
    "message()"
   ]
  },
  {
   "cell_type": "code",
   "execution_count": 32,
   "metadata": {},
   "outputs": [
    {
     "name": "stdout",
     "output_type": "stream",
     "text": [
      "28 "
     ]
    }
   ],
   "source": [
    "def isperfect(n):\n",
    "    s=0\n",
    "    for i in range(1,n):\n",
    "        if n%i==0:\n",
    "            s=s+i\n",
    "    if(s==n):\n",
    "        print(s,end=\" \")\n",
    "isperfect(28)"
   ]
  },
  {
   "cell_type": "code",
   "execution_count": 33,
   "metadata": {},
   "outputs": [
    {
     "name": "stdout",
     "output_type": "stream",
     "text": [
      "1\n",
      "500\n",
      "6 28 496 "
     ]
    }
   ],
   "source": [
    "#resuability\n",
    "s=int(input())\n",
    "e=int(input())\n",
    "for i in range(s,e+1):\n",
    "    isperfect(i)\n",
    "    \n",
    "\n"
   ]
  },
  {
   "cell_type": "code",
   "execution_count": 37,
   "metadata": {},
   "outputs": [
    {
     "name": "stdout",
     "output_type": "stream",
     "text": [
      "['__add__', '__class__', '__contains__', '__delattr__', '__dir__', '__doc__', '__eq__', '__format__', '__ge__', '__getattribute__', '__getitem__', '__getnewargs__', '__gt__', '__hash__', '__init__', '__init_subclass__', '__iter__', '__le__', '__len__', '__lt__', '__mod__', '__mul__', '__ne__', '__new__', '__reduce__', '__reduce_ex__', '__repr__', '__rmod__', '__rmul__', '__setattr__', '__sizeof__', '__str__', '__subclasshook__', 'capitalize', 'casefold', 'center', 'count', 'encode', 'endswith', 'expandtabs', 'find', 'format', 'format_map', 'index', 'isalnum', 'isalpha', 'isascii', 'isdecimal', 'isdigit', 'isidentifier', 'islower', 'isnumeric', 'isprintable', 'isspace', 'istitle', 'isupper', 'join', 'ljust', 'lower', 'lstrip', 'maketrans', 'partition', 'replace', 'rfind', 'rindex', 'rjust', 'rpartition', 'rsplit', 'rstrip', 'split', 'splitlines', 'startswith', 'strip', 'swapcase', 'title', 'translate', 'upper', 'zfill']\n"
     ]
    }
   ],
   "source": [
    "print(dir(str))"
   ]
  },
  {
   "cell_type": "code",
   "execution_count": 59,
   "metadata": {},
   "outputs": [
    {
     "name": "stdout",
     "output_type": "stream",
     "text": [
      "Hellow python\n",
      "5\n",
      "2\n",
      "i am from apssdc taking of 50000 rupees every month\n",
      "2\n",
      "True\n",
      "False\n",
      "True\n",
      "True\n",
      "True\n",
      "True\n",
      "True\n",
      "False\n",
      "         hello\n",
      "Helloo python\n",
      "hELLOW PYTHON\n",
      "0000056\n"
     ]
    }
   ],
   "source": [
    "string=\"hellow python\"\n",
    "print(string.capitalize())\n",
    "print(string.find('w'))\n",
    "print(string.count('o'))\n",
    "apssdc=\"i am from apssdc taking of {salary:} rupees every month\"\n",
    "print(apssdc.format(salary=50000))\n",
    "print(apssdc.index('a'))\n",
    "s=\"bhavana4203\"\n",
    "print(s.isalnum())\n",
    "s1=\"bhav@\"\n",
    "print(s1.isalpha())\n",
    "s2=\"85774\"\n",
    "print(s2.isdecimal())\n",
    "s3='56'\n",
    "print(s3.isdigit())\n",
    "s4=\"bhav\"\n",
    "print(s4.isidentifier())\n",
    "data='a'\n",
    "print(data.islower())\n",
    "s5=\"heloo\"\n",
    "print(s5.isprintable())\n",
    "s6=\"Hello python\"\n",
    "print(s6.istitle())\n",
    "s7=\"         hello         \"\n",
    "print(s7.rstrip())\n",
    "s8=\"Hellow python\"\n",
    "print(s8.replace('w','o'))\n",
    "print(s8.swapcase())\n",
    "s9=\"56\"\n",
    "print(s9.zfill(7))\n",
    "\n"
   ]
  }
 ],
 "metadata": {
  "kernelspec": {
   "display_name": "Python 3",
   "language": "python",
   "name": "python3"
  },
  "language_info": {
   "codemirror_mode": {
    "name": "ipython",
    "version": 3
   },
   "file_extension": ".py",
   "mimetype": "text/x-python",
   "name": "python",
   "nbconvert_exporter": "python",
   "pygments_lexer": "ipython3",
   "version": "3.7.1"
  }
 },
 "nbformat": 4,
 "nbformat_minor": 2
}
